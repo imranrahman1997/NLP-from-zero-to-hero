{
  "nbformat": 4,
  "nbformat_minor": 0,
  "metadata": {
    "colab": {
      "name": "Tokenizer.ipynb",
      "provenance": [],
      "authorship_tag": "ABX9TyO77a9nwYn4gHn4+0OWnY/u",
      "include_colab_link": true
    },
    "kernelspec": {
      "name": "python3",
      "display_name": "Python 3"
    },
    "language_info": {
      "name": "python"
    }
  },
  "cells": [
    {
      "cell_type": "markdown",
      "metadata": {
        "id": "view-in-github",
        "colab_type": "text"
      },
      "source": [
        "<a href=\"https://colab.research.google.com/github/imranrahman1997/NLP-from-zero-to-hero/blob/main/Tokenizer.ipynb\" target=\"_parent\"><img src=\"https://colab.research.google.com/assets/colab-badge.svg\" alt=\"Open In Colab\"/></a>"
      ]
    },
    {
      "cell_type": "code",
      "metadata": {
        "id": "EHRc-ks08EyG"
      },
      "source": [
        "import nltk\n",
        "nltk.download()"
      ],
      "execution_count": null,
      "outputs": []
    },
    {
      "cell_type": "code",
      "metadata": {
        "id": "UYuWunhN9GEY"
      },
      "source": [
        "paragraph = \"Peace is liked by all. It is for peace that we pray to God every morning and evening. Peace hath her victories no less glorious than war. It is in peace time that we have great men, high thoughts and golden deeds. Peace encourages education, trade, commerce and industry. Greater than personal peace is the peace of the nation and still greater is the world peace. This is possible when there is no war in any corner of the world.\""
      ],
      "execution_count": 2,
      "outputs": []
    },
    {
      "cell_type": "code",
      "metadata": {
        "id": "03mlAaYT9IYr"
      },
      "source": [
        "#convert paragraph into sentences\n",
        "sentences = nltk.sent_tokenize(paragraph)"
      ],
      "execution_count": 3,
      "outputs": []
    },
    {
      "cell_type": "code",
      "metadata": {
        "colab": {
          "base_uri": "https://localhost:8080/"
        },
        "id": "P-GfMwby9QnR",
        "outputId": "0cf6d079-2dad-428b-d25e-0215d30c7111"
      },
      "source": [
        "sentences"
      ],
      "execution_count": 4,
      "outputs": [
        {
          "output_type": "execute_result",
          "data": {
            "text/plain": [
              "['Peace is liked by all.',\n",
              " 'It is for peace that we pray to God every morning and evening.',\n",
              " 'Peace hath her victories no less glorious than war.',\n",
              " 'It is in peace time that we have great men, high thoughts and golden deeds.',\n",
              " 'Peace encourages education, trade, commerce and industry.',\n",
              " 'Greater than personal peace is the peace of the nation and still greater is the world peace.',\n",
              " 'This is possible when there is no war in any corner of the world.']"
            ]
          },
          "metadata": {
            "tags": []
          },
          "execution_count": 4
        }
      ]
    },
    {
      "cell_type": "code",
      "metadata": {
        "id": "kjeO7MAv9SAo"
      },
      "source": [
        "#convert into words\n",
        "words = nltk.word_tokenize(paragraph)"
      ],
      "execution_count": 5,
      "outputs": []
    },
    {
      "cell_type": "code",
      "metadata": {
        "colab": {
          "base_uri": "https://localhost:8080/"
        },
        "id": "GU_XqEya9biQ",
        "outputId": "390d64e6-bde8-4e6c-ce83-243eb6c26249"
      },
      "source": [
        "words"
      ],
      "execution_count": 6,
      "outputs": [
        {
          "output_type": "execute_result",
          "data": {
            "text/plain": [
              "['Peace',\n",
              " 'is',\n",
              " 'liked',\n",
              " 'by',\n",
              " 'all',\n",
              " '.',\n",
              " 'It',\n",
              " 'is',\n",
              " 'for',\n",
              " 'peace',\n",
              " 'that',\n",
              " 'we',\n",
              " 'pray',\n",
              " 'to',\n",
              " 'God',\n",
              " 'every',\n",
              " 'morning',\n",
              " 'and',\n",
              " 'evening',\n",
              " '.',\n",
              " 'Peace',\n",
              " 'hath',\n",
              " 'her',\n",
              " 'victories',\n",
              " 'no',\n",
              " 'less',\n",
              " 'glorious',\n",
              " 'than',\n",
              " 'war',\n",
              " '.',\n",
              " 'It',\n",
              " 'is',\n",
              " 'in',\n",
              " 'peace',\n",
              " 'time',\n",
              " 'that',\n",
              " 'we',\n",
              " 'have',\n",
              " 'great',\n",
              " 'men',\n",
              " ',',\n",
              " 'high',\n",
              " 'thoughts',\n",
              " 'and',\n",
              " 'golden',\n",
              " 'deeds',\n",
              " '.',\n",
              " 'Peace',\n",
              " 'encourages',\n",
              " 'education',\n",
              " ',',\n",
              " 'trade',\n",
              " ',',\n",
              " 'commerce',\n",
              " 'and',\n",
              " 'industry',\n",
              " '.',\n",
              " 'Greater',\n",
              " 'than',\n",
              " 'personal',\n",
              " 'peace',\n",
              " 'is',\n",
              " 'the',\n",
              " 'peace',\n",
              " 'of',\n",
              " 'the',\n",
              " 'nation',\n",
              " 'and',\n",
              " 'still',\n",
              " 'greater',\n",
              " 'is',\n",
              " 'the',\n",
              " 'world',\n",
              " 'peace',\n",
              " '.',\n",
              " 'This',\n",
              " 'is',\n",
              " 'possible',\n",
              " 'when',\n",
              " 'there',\n",
              " 'is',\n",
              " 'no',\n",
              " 'war',\n",
              " 'in',\n",
              " 'any',\n",
              " 'corner',\n",
              " 'of',\n",
              " 'the',\n",
              " 'world',\n",
              " '.']"
            ]
          },
          "metadata": {
            "tags": []
          },
          "execution_count": 6
        }
      ]
    },
    {
      "cell_type": "code",
      "metadata": {
        "id": "xJVcHep89cq5"
      },
      "source": [
        ""
      ],
      "execution_count": null,
      "outputs": []
    }
  ]
}