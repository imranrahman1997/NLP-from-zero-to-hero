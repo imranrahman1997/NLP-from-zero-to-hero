{
  "nbformat": 4,
  "nbformat_minor": 0,
  "metadata": {
    "colab": {
      "name": "Stemming.ipynb",
      "provenance": [],
      "authorship_tag": "ABX9TyOxcrXFNGmmcw+sE+mqFRgE",
      "include_colab_link": true
    },
    "kernelspec": {
      "name": "python3",
      "display_name": "Python 3"
    },
    "language_info": {
      "name": "python"
    }
  },
  "cells": [
    {
      "cell_type": "markdown",
      "metadata": {
        "id": "view-in-github",
        "colab_type": "text"
      },
      "source": [
        "<a href=\"https://colab.research.google.com/github/imranrahman1997/NLP-from-zero-to-hero/blob/main/Stemming.ipynb\" target=\"_parent\"><img src=\"https://colab.research.google.com/assets/colab-badge.svg\" alt=\"Open In Colab\"/></a>"
      ]
    },
    {
      "cell_type": "code",
      "metadata": {
        "colab": {
          "base_uri": "https://localhost:8080/"
        },
        "id": "JzXcLJ6snyza",
        "outputId": "6248cee2-5359-456b-993d-3c70b930fa76"
      },
      "source": [
        "import nltk\n",
        "nltk.download()"
      ],
      "execution_count": 1,
      "outputs": [
        {
          "output_type": "stream",
          "text": [
            "NLTK Downloader\n",
            "---------------------------------------------------------------------------\n",
            "    d) Download   l) List    u) Update   c) Config   h) Help   q) Quit\n",
            "---------------------------------------------------------------------------\n",
            "Downloader> q\n"
          ],
          "name": "stdout"
        },
        {
          "output_type": "execute_result",
          "data": {
            "text/plain": [
              "True"
            ]
          },
          "metadata": {
            "tags": []
          },
          "execution_count": 1
        }
      ]
    },
    {
      "cell_type": "code",
      "metadata": {
        "id": "zhWB9EEmoJh_"
      },
      "source": [
        "\n",
        "from nltk.stem import PorterStemmer\n",
        "from nltk.corpus import stopwords"
      ],
      "execution_count": 2,
      "outputs": []
    },
    {
      "cell_type": "code",
      "metadata": {
        "id": "0N6wlXlzoX_s"
      },
      "source": [
        "paragraph = \"Peace is liked by all. It is for peace that we pray to God every morning and evening. Peace hath her victories no less glorious than war. It is in peace time that we have great men, high thoughts and golden deeds. Peace encourages education, trade, commerce and industry. Greater than personal peace is the peace of the nation and still greater is the world peace. This is possible when there is no war in any corner of the world.\""
      ],
      "execution_count": 3,
      "outputs": []
    },
    {
      "cell_type": "code",
      "metadata": {
        "id": "ljN_FFNNoYnj"
      },
      "source": [
        "sentences = nltk.sent_tokenize(paragraph)"
      ],
      "execution_count": 4,
      "outputs": []
    },
    {
      "cell_type": "code",
      "metadata": {
        "colab": {
          "base_uri": "https://localhost:8080/"
        },
        "id": "HhCV4Y8Toe70",
        "outputId": "3217fe0f-d5e5-4863-91be-17e565c01eb3"
      },
      "source": [
        "sentences"
      ],
      "execution_count": 5,
      "outputs": [
        {
          "output_type": "execute_result",
          "data": {
            "text/plain": [
              "['Peace is liked by all.',\n",
              " 'It is for peace that we pray to God every morning and evening.',\n",
              " 'Peace hath her victories no less glorious than war.',\n",
              " 'It is in peace time that we have great men, high thoughts and golden deeds.',\n",
              " 'Peace encourages education, trade, commerce and industry.',\n",
              " 'Greater than personal peace is the peace of the nation and still greater is the world peace.',\n",
              " 'This is possible when there is no war in any corner of the world.']"
            ]
          },
          "metadata": {
            "tags": []
          },
          "execution_count": 5
        }
      ]
    },
    {
      "cell_type": "code",
      "metadata": {
        "colab": {
          "base_uri": "https://localhost:8080/"
        },
        "id": "AMqXg6T3pBOc",
        "outputId": "418869f9-725b-4f08-86ae-f333c2604157"
      },
      "source": [
        "len(sentences)"
      ],
      "execution_count": 6,
      "outputs": [
        {
          "output_type": "execute_result",
          "data": {
            "text/plain": [
              "7"
            ]
          },
          "metadata": {
            "tags": []
          },
          "execution_count": 6
        }
      ]
    },
    {
      "cell_type": "code",
      "metadata": {
        "id": "oFqL6iHxpCpC"
      },
      "source": [
        "stemmer = PorterStemmer()"
      ],
      "execution_count": 7,
      "outputs": []
    },
    {
      "cell_type": "code",
      "metadata": {
        "id": "oQ1_oRy3pFjr"
      },
      "source": [
        "for i in range(len(sentences)):\n",
        "  words = nltk.word_tokenize(sentences[i])\n",
        "  words = [stemmer.stem(word) for word in words if word not in set(stopwords.words('english'))]\n",
        "  sentences[i] = ' '.join(words)"
      ],
      "execution_count": 8,
      "outputs": []
    },
    {
      "cell_type": "code",
      "metadata": {
        "colab": {
          "base_uri": "https://localhost:8080/"
        },
        "id": "Bm32BF67pmnb",
        "outputId": "8cda45e8-2f17-4245-d763-4efb755f744f"
      },
      "source": [
        "sentences"
      ],
      "execution_count": 9,
      "outputs": [
        {
          "output_type": "execute_result",
          "data": {
            "text/plain": [
              "['peac like .',\n",
              " 'It peac pray god everi morn even .',\n",
              " 'peac hath victori less gloriou war .',\n",
              " 'It peac time great men , high thought golden deed .',\n",
              " 'peac encourag educ , trade , commerc industri .',\n",
              " 'greater person peac peac nation still greater world peac .',\n",
              " 'thi possibl war corner world .']"
            ]
          },
          "metadata": {
            "tags": []
          },
          "execution_count": 9
        }
      ]
    },
    {
      "cell_type": "markdown",
      "metadata": {
        "id": "Y5F4D6rZqIA0"
      },
      "source": [
        "words now converted into stemming words"
      ]
    },
    {
      "cell_type": "code",
      "metadata": {
        "id": "l2_QUc7eqFaM"
      },
      "source": [
        ""
      ],
      "execution_count": 9,
      "outputs": []
    }
  ]
}