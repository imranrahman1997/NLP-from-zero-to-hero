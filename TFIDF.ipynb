{
  "nbformat": 4,
  "nbformat_minor": 0,
  "metadata": {
    "colab": {
      "name": "TFIDF.ipynb",
      "provenance": [],
      "authorship_tag": "ABX9TyNvJjctw2mQ+mALE3zlbNZp",
      "include_colab_link": true
    },
    "kernelspec": {
      "name": "python3",
      "display_name": "Python 3"
    },
    "language_info": {
      "name": "python"
    }
  },
  "cells": [
    {
      "cell_type": "markdown",
      "metadata": {
        "id": "view-in-github",
        "colab_type": "text"
      },
      "source": [
        "<a href=\"https://colab.research.google.com/github/imranrahman1997/NLP-from-zero-to-hero/blob/main/TFIDF.ipynb\" target=\"_parent\"><img src=\"https://colab.research.google.com/assets/colab-badge.svg\" alt=\"Open In Colab\"/></a>"
      ]
    },
    {
      "cell_type": "code",
      "metadata": {
        "colab": {
          "base_uri": "https://localhost:8080/"
        },
        "id": "22qee1dkUWfi",
        "outputId": "d0e65004-c172-4c8e-915f-b66a1f9ad567"
      },
      "source": [
        "import nltk\n",
        "nltk.download()"
      ],
      "execution_count": 1,
      "outputs": [
        {
          "output_type": "stream",
          "text": [
            "NLTK Downloader\n",
            "---------------------------------------------------------------------------\n",
            "    d) Download   l) List    u) Update   c) Config   h) Help   q) Quit\n",
            "---------------------------------------------------------------------------\n",
            "Downloader> d\n",
            "\n",
            "Download which package (l=list; x=cancel)?\n",
            "  Identifier> punkt\n",
            "    Downloading package punkt to /root/nltk_data...\n",
            "      Package punkt is already up-to-date!\n",
            "\n",
            "---------------------------------------------------------------------------\n",
            "    d) Download   l) List    u) Update   c) Config   h) Help   q) Quit\n",
            "---------------------------------------------------------------------------\n",
            "Downloader> d\n",
            "\n",
            "Download which package (l=list; x=cancel)?\n",
            "  Identifier> stopwords\n",
            "    Downloading package stopwords to /root/nltk_data...\n",
            "      Package stopwords is already up-to-date!\n",
            "\n",
            "---------------------------------------------------------------------------\n",
            "    d) Download   l) List    u) Update   c) Config   h) Help   q) Quit\n",
            "---------------------------------------------------------------------------\n",
            "Downloader> d\n",
            "\n",
            "Download which package (l=list; x=cancel)?\n",
            "  Identifier> wordnet\n",
            "    Downloading package wordnet to /root/nltk_data...\n",
            "      Package wordnet is already up-to-date!\n",
            "\n",
            "---------------------------------------------------------------------------\n",
            "    d) Download   l) List    u) Update   c) Config   h) Help   q) Quit\n",
            "---------------------------------------------------------------------------\n",
            "Downloader> q\n"
          ],
          "name": "stdout"
        },
        {
          "output_type": "execute_result",
          "data": {
            "text/plain": [
              "True"
            ]
          },
          "metadata": {
            "tags": []
          },
          "execution_count": 1
        }
      ]
    },
    {
      "cell_type": "code",
      "metadata": {
        "id": "66HIGC94bLos"
      },
      "source": [
        "import re\n",
        "from nltk.stem.porter import PorterStemmer\n",
        "from nltk.stem import WordNetLemmatizer\n",
        "from nltk.corpus import stopwords"
      ],
      "execution_count": 2,
      "outputs": []
    },
    {
      "cell_type": "code",
      "metadata": {
        "id": "TwPr0jo8bkAy"
      },
      "source": [
        "paragraph = \"\"\"Thank you all so very much. Thank you to the Academy. \n",
        "               Thank you to all of you in this room. I have to congratulate \n",
        "               the other incredible nominees this year. The Revenant was \n",
        "               the product of the tireless efforts of an unbelievable cast\n",
        "               and crew. First off, to my brother in this endeavor, Mr. Tom \n",
        "               Hardy. Tom, your talent on screen can only be surpassed by \n",
        "               your friendship off screen … thank you for creating a t\n",
        "               ranscendent cinematic experience. Thank you to everybody at \n",
        "               Fox and New Regency … my entire team. I have to thank \n",
        "               everyone from the very onset of my career … To my parents; \n",
        "               none of this would be possible without you. And to my \n",
        "               friends, I love you dearly; you know who you are. And lastly,\n",
        "               I just want to say this: Making The Revenant was about\n",
        "               man's relationship to the natural world. A world that we\n",
        "               collectively felt in 2015 as the hottest year in recorded\n",
        "               history. Our production needed to move to the southern\n",
        "               tip of this planet just to be able to find snow. Climate\n",
        "               change is real, it is happening right now. It is the most\n",
        "               urgent threat facing our entire species, and we need to work\n",
        "               collectively together and stop procrastinating. We need to\n",
        "               support leaders around the world who do not speak for the \n",
        "               big polluters, but who speak for all of humanity, for the\n",
        "               indigenous people of the world, for the billions and \n",
        "               billions of underprivileged people out there who would be\n",
        "               most affected by this. For our children’s children, and \n",
        "               for those people out there whose voices have been drowned\n",
        "               out by the politics of greed. I thank you all for this \n",
        "               amazing award tonight. Let us not take this planet for \n",
        "               granted. I do not take tonight for granted. Thank you so very much.\"\"\""
      ],
      "execution_count": 3,
      "outputs": []
    },
    {
      "cell_type": "code",
      "metadata": {
        "id": "ttm6eSGJbvP7"
      },
      "source": [
        "ps = PorterStemmer()\n",
        "wordnet = WordNetLemmatizer()"
      ],
      "execution_count": 4,
      "outputs": []
    },
    {
      "cell_type": "code",
      "metadata": {
        "id": "nZ5IN3_ybzdC"
      },
      "source": [
        "sentences = nltk.sent_tokenize(paragraph)"
      ],
      "execution_count": 5,
      "outputs": []
    },
    {
      "cell_type": "code",
      "metadata": {
        "colab": {
          "base_uri": "https://localhost:8080/"
        },
        "id": "wzKzDUtOb4JC",
        "outputId": "de400229-6ffb-42fc-cb22-3fa416bed80c"
      },
      "source": [
        "sentences"
      ],
      "execution_count": 6,
      "outputs": [
        {
          "output_type": "execute_result",
          "data": {
            "text/plain": [
              "['Thank you all so very much.',\n",
              " 'Thank you to the Academy.',\n",
              " 'Thank you to all of you in this room.',\n",
              " 'I have to congratulate \\n               the other incredible nominees this year.',\n",
              " 'The Revenant was \\n               the product of the tireless efforts of an unbelievable cast\\n               and crew.',\n",
              " 'First off, to my brother in this endeavor, Mr. Tom \\n               Hardy.',\n",
              " 'Tom, your talent on screen can only be surpassed by \\n               your friendship off screen … thank you for creating a t\\n               ranscendent cinematic experience.',\n",
              " 'Thank you to everybody at \\n               Fox and New Regency … my entire team.',\n",
              " 'I have to thank \\n               everyone from the very onset of my career … To my parents; \\n               none of this would be possible without you.',\n",
              " 'And to my \\n               friends, I love you dearly; you know who you are.',\n",
              " \"And lastly,\\n               I just want to say this: Making The Revenant was about\\n               man's relationship to the natural world.\",\n",
              " 'A world that we\\n               collectively felt in 2015 as the hottest year in recorded\\n               history.',\n",
              " 'Our production needed to move to the southern\\n               tip of this planet just to be able to find snow.',\n",
              " 'Climate\\n               change is real, it is happening right now.',\n",
              " 'It is the most\\n               urgent threat facing our entire species, and we need to work\\n               collectively together and stop procrastinating.',\n",
              " 'We need to\\n               support leaders around the world who do not speak for the \\n               big polluters, but who speak for all of humanity, for the\\n               indigenous people of the world, for the billions and \\n               billions of underprivileged people out there who would be\\n               most affected by this.',\n",
              " 'For our children’s children, and \\n               for those people out there whose voices have been drowned\\n               out by the politics of greed.',\n",
              " 'I thank you all for this \\n               amazing award tonight.',\n",
              " 'Let us not take this planet for \\n               granted.',\n",
              " 'I do not take tonight for granted.',\n",
              " 'Thank you so very much.']"
            ]
          },
          "metadata": {
            "tags": []
          },
          "execution_count": 6
        }
      ]
    },
    {
      "cell_type": "code",
      "metadata": {
        "id": "u1CrOq4Ob4v5"
      },
      "source": [
        "corpus = []\n",
        "for i in range(len(sentences)):\n",
        "  review = re.sub('[^a-zA-Z]', ' ', sentences[i])\n",
        "  review = review.lower()\n",
        "  review = review.split()\n",
        "  review = [wordnet.lemmatize(word) for word in review if not word in set(stopwords.words('english'))]\n",
        "  review = ' '. join(review)\n",
        "  corpus.append(review)"
      ],
      "execution_count": 7,
      "outputs": []
    },
    {
      "cell_type": "code",
      "metadata": {
        "colab": {
          "base_uri": "https://localhost:8080/"
        },
        "id": "vVI9KnqfchXJ",
        "outputId": "abf320a7-e562-4f7f-ecf1-c92aae2b9158"
      },
      "source": [
        "corpus"
      ],
      "execution_count": 8,
      "outputs": [
        {
          "output_type": "execute_result",
          "data": {
            "text/plain": [
              "['thank much',\n",
              " 'thank academy',\n",
              " 'thank room',\n",
              " 'congratulate incredible nominee year',\n",
              " 'revenant product tireless effort unbelievable cast crew',\n",
              " 'first brother endeavor mr tom hardy',\n",
              " 'tom talent screen surpassed friendship screen thank creating ranscendent cinematic experience',\n",
              " 'thank everybody fox new regency entire team',\n",
              " 'thank everyone onset career parent none would possible without',\n",
              " 'friend love dearly know',\n",
              " 'lastly want say making revenant man relationship natural world',\n",
              " 'world collectively felt hottest year recorded history',\n",
              " 'production needed move southern tip planet able find snow',\n",
              " 'climate change real happening right',\n",
              " 'urgent threat facing entire specie need work collectively together stop procrastinating',\n",
              " 'need support leader around world speak big polluter speak humanity indigenous people world billion billion underprivileged people would affected',\n",
              " 'child child people whose voice drowned politics greed',\n",
              " 'thank amazing award tonight',\n",
              " 'let u take planet granted',\n",
              " 'take tonight granted',\n",
              " 'thank much']"
            ]
          },
          "metadata": {
            "tags": []
          },
          "execution_count": 8
        }
      ]
    },
    {
      "cell_type": "code",
      "metadata": {
        "id": "i67Ut7eicirx"
      },
      "source": [
        "#creating TFIDF model\n",
        "from sklearn.feature_extraction.text import TfidfVectorizer\n",
        "cv = TfidfVectorizer()"
      ],
      "execution_count": 10,
      "outputs": []
    },
    {
      "cell_type": "code",
      "metadata": {
        "id": "1VqtMW9-cvjR"
      },
      "source": [
        "X = cv.fit_transform(corpus).toarray()"
      ],
      "execution_count": 14,
      "outputs": []
    },
    {
      "cell_type": "code",
      "metadata": {
        "colab": {
          "base_uri": "https://localhost:8080/"
        },
        "id": "eHRHeLt2c2k5",
        "outputId": "2077d614-1ad1-4772-dbbf-9019b40b5a0d"
      },
      "source": [
        "X"
      ],
      "execution_count": 15,
      "outputs": [
        {
          "output_type": "execute_result",
          "data": {
            "text/plain": [
              "array([[0.        , 0.        , 0.        , ..., 0.        , 0.        ,\n",
              "        0.        ],\n",
              "       [0.        , 0.87349093, 0.        , ..., 0.        , 0.        ,\n",
              "        0.        ],\n",
              "       [0.        , 0.        , 0.        , ..., 0.        , 0.        ,\n",
              "        0.        ],\n",
              "       ...,\n",
              "       [0.        , 0.        , 0.        , ..., 0.        , 0.        ,\n",
              "        0.        ],\n",
              "       [0.        , 0.        , 0.        , ..., 0.        , 0.        ,\n",
              "        0.        ],\n",
              "       [0.        , 0.        , 0.        , ..., 0.        , 0.        ,\n",
              "        0.        ]])"
            ]
          },
          "metadata": {
            "tags": []
          },
          "execution_count": 15
        }
      ]
    },
    {
      "cell_type": "code",
      "metadata": {
        "id": "sR_8kMr0c28h"
      },
      "source": [
        ""
      ],
      "execution_count": null,
      "outputs": []
    }
  ]
}